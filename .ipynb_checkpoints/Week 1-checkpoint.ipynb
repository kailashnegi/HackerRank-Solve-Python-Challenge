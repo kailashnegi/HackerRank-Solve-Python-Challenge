{
 "cells": [
  {
   "cell_type": "markdown",
   "metadata": {},
   "source": [
    "### Say \"Hello, World!\" With Python"
   ]
  },
  {
   "cell_type": "code",
   "execution_count": 1,
   "metadata": {},
   "outputs": [
    {
     "name": "stdout",
     "output_type": "stream",
     "text": [
      "Hello, World!\n"
     ]
    }
   ],
   "source": [
    "print(\"Hello, World!\")"
   ]
  },
  {
   "cell_type": "markdown",
   "metadata": {},
   "source": [
    "==========================================================================================="
   ]
  },
  {
   "cell_type": "markdown",
   "metadata": {},
   "source": [
    "### Python If-Else"
   ]
  },
  {
   "cell_type": "markdown",
   "metadata": {},
   "source": [
    "<b>Task</b><br/>\n",
    "Given an integer, <b>n</b>, perform the following conditional actions:\n",
    "\n",
    "If <b>n</b> is odd, print \"Weird\"<br/>\n",
    "If <b>n</b> is even and in the inclusive range of  to <b>2</b> to <b>5</b> , print \"Not Weird\"<br/>\n",
    "If <b>n</b> is even and in the inclusive range of  to <b>6</b> to <b>20</b>, print \"Weird\"<br/>\n",
    "If <b>n</b> is even and greater than <b>20</b>, print \"Not Weird\"<br/>\n",
    "\n",
    "<b>Input Format</b>\n",
    "\n",
    "A single line containing a positive integer, .\n",
    "\n",
    "Constraints\n",
    "- 1<=n<=100"
   ]
  },
  {
   "cell_type": "code",
   "execution_count": 6,
   "metadata": {},
   "outputs": [
    {
     "name": "stdout",
     "output_type": "stream",
     "text": [
      "2\n",
      "Not Weird\n"
     ]
    }
   ],
   "source": [
    "import math\n",
    "import os\n",
    "import random\n",
    "import re\n",
    "import sys\n",
    "\n",
    "\n",
    "\n",
    "if __name__ == '__main__':\n",
    "    n = int(input().strip())\n",
    "    if n<1 or n>100:\n",
    "        print(\"Please enter number between 1 to 100 only!\")\n",
    "    else:\n",
    "        if n%2!=0:\n",
    "            print(\"Weird\")\n",
    "        else:\n",
    "            if (n>=2 and n<=5) or (n>20):\n",
    "                print(\"Not Weird\")\n",
    "            else:\n",
    "                print(\"Weird\")"
   ]
  },
  {
   "cell_type": "markdown",
   "metadata": {},
   "source": [
    "==========================================================================================="
   ]
  },
  {
   "cell_type": "markdown",
   "metadata": {},
   "source": [
    "### Arithmetic Operators "
   ]
  },
  {
   "cell_type": "markdown",
   "metadata": {},
   "source": [
    "<b>Task</b><br/>\n",
    "Read two integers from STDIN and print three lines where:\n",
    "- The first line contains the sum of the two numbers.\n",
    "- The second line contains the difference of the two numbers (first - second).\n",
    "- The third line contains the product of the two numbers\n",
    "\n",
    "<b>Input Format</b><br/>\n",
    "The first line contains the first integer, <b>a</b>. The second line contains the second integer, <b>b</b>.<br/>\n",
    "\n",
    "<b>Constraints</b><br/>\n",
    "1<=a<=10^10 <br/>\n",
    "1<=b<=10^10"
   ]
  },
  {
   "cell_type": "markdown",
   "metadata": {},
   "source": [
    "========================================================================================"
   ]
  },
  {
   "cell_type": "markdown",
   "metadata": {},
   "source": [
    "### Arithmetic Operators"
   ]
  },
  {
   "cell_type": "markdown",
   "metadata": {},
   "source": [
    "<b>Task</b><br/>\n",
    "Read two integers from STDIN and print three lines where:\n",
    "\n",
    "- The first line contains the sum of the two numbers.\n",
    "- The second line contains the difference of the two numbers (first - second).\n",
    "- The third line contains the product of the two numbers.\n",
    "\n",
    "<b>Input Format</b><br/>\n",
    "The first line contains the first integer, <b>a</b>. The second line contains the second integer, <b>b</b>."
   ]
  },
  {
   "cell_type": "code",
   "execution_count": 9,
   "metadata": {},
   "outputs": [
    {
     "name": "stdout",
     "output_type": "stream",
     "text": [
      "2\n",
      "3\n",
      "\n",
      "\n",
      "Sum:  5\n",
      "Difference:  -1\n",
      "Product:  6\n"
     ]
    }
   ],
   "source": [
    "a = int(input())\n",
    "b = int(input())\n",
    "print(\"\\n\")\n",
    "print(\"Sum: \",a+b)\n",
    "print(\"Difference: \",a-b)\n",
    "print(\"Product: \",a*b)"
   ]
  },
  {
   "cell_type": "markdown",
   "metadata": {},
   "source": [
    "================================================================================"
   ]
  },
  {
   "cell_type": "markdown",
   "metadata": {},
   "source": [
    "### Python: Division"
   ]
  },
  {
   "cell_type": "markdown",
   "metadata": {},
   "source": [
    "<b>Task</b><br/>\n",
    "Read two integers and print two lines. The first line should contain integer division,  <b>a</b>//<b>b</b> . The second line should contain float division,  <b>a</b>/<b>b</b>.<br/>\n",
    "You don't need to perform any rounding or formatting operations.<br/>\n",
    "\n",
    "<b>Input Format</b><br/>\n",
    "The first line contains the first integer, <b>a</b>. The second line contains the second integer, <b>b</b>."
   ]
  },
  {
   "cell_type": "code",
   "execution_count": 10,
   "metadata": {},
   "outputs": [
    {
     "name": "stdout",
     "output_type": "stream",
     "text": [
      "2\n",
      "3\n",
      "\n",
      "\n",
      "0\n",
      "0.6666666666666666\n"
     ]
    }
   ],
   "source": [
    "a = int(input())\n",
    "b = int(input())\n",
    "print(\"\\n\")\n",
    "print(a//b)\n",
    "print(a/b)"
   ]
  },
  {
   "cell_type": "markdown",
   "metadata": {},
   "source": [
    "===================================================================================="
   ]
  },
  {
   "cell_type": "markdown",
   "metadata": {},
   "source": [
    "### Loops"
   ]
  },
  {
   "cell_type": "markdown",
   "metadata": {},
   "source": [
    "<b>Task</b><br/>\n",
    "Read an integer <b>N</b>. For all non-negative integers <b>i<N</b>, print <b>i^2</b>. See the sample for details.\n",
    "\n",
    "<b>Input Format</b><br/>\n",
    "The first and only line contains the integer, <b>N</b>.<br/>\n",
    "\n",
    "<b>Constraints</b><br/>\n",
    "<b>1<=N<=20</b>"
   ]
  },
  {
   "cell_type": "code",
   "execution_count": 14,
   "metadata": {},
   "outputs": [
    {
     "name": "stdout",
     "output_type": "stream",
     "text": [
      "5\n",
      "\n",
      "Here is the output:\n",
      "0\n",
      "1\n",
      "4\n",
      "9\n",
      "16\n"
     ]
    }
   ],
   "source": [
    "if __name__ == '__main__':\n",
    "    n = int(input())\n",
    "    print(\"\\nHere is the output:\")\n",
    "    for i in range(n):\n",
    "        print(i**2)"
   ]
  },
  {
   "cell_type": "markdown",
   "metadata": {},
   "source": [
    "===================================================================================="
   ]
  },
  {
   "cell_type": "markdown",
   "metadata": {},
   "source": [
    "### Write a function "
   ]
  },
  {
   "cell_type": "markdown",
   "metadata": {},
   "source": [
    "We add a Leap Day on February 29, almost every four years. The leap day is an extra, or intercalary day and we add it to the shortest month of the year, February.<br/>\n",
    "In the Gregorian calendar three criteria must be taken into account to identify leap years:\n",
    "- The year can be evenly divided by 4, is a leap year, unless:\n",
    "  - The year can be evenly divided by 100, it is NOT a leap year, unless:\n",
    "    - The year is also evenly divisible by 400. Then it is a leap year.\n",
    "\n",
    "This means that in the Gregorian calendar, the years 2000 and 2400 are leap years, while 1800, 1900, 2100, 2200, 2300 and 2500 are NOT leap years."
   ]
  },
  {
   "cell_type": "markdown",
   "metadata": {},
   "source": [
    "<b>Task</b><br/>\n",
    "You are given the year, and you have to write a function to check if the year is leap or not.<br/>\n",
    "\n",
    "<b>Constraints</b><br/>\n",
    "1900<=y<=10^5\n"
   ]
  },
  {
   "cell_type": "code",
   "execution_count": 26,
   "metadata": {},
   "outputs": [
    {
     "name": "stdout",
     "output_type": "stream",
     "text": [
      "1990\n"
     ]
    },
    {
     "data": {
      "text/plain": [
       "False"
      ]
     },
     "execution_count": 26,
     "metadata": {},
     "output_type": "execute_result"
    }
   ],
   "source": [
    "def is_leap(year):\n",
    "    leap = False\n",
    "    \n",
    "    if year % 4 == 0 and year % 100 != 0:\n",
    "        leap = True\n",
    "    elif year % 400 ==0:\n",
    "        leap = True\n",
    "    elif year % 100 == 0:\n",
    "        leap = False\n",
    "    else:\n",
    "        leap = False\n",
    "        \n",
    "    return leap\n",
    "\n",
    "year = int(input())\n",
    "is_leap(year)"
   ]
  },
  {
   "cell_type": "code",
   "execution_count": null,
   "metadata": {},
   "outputs": [],
   "source": []
  }
 ],
 "metadata": {
  "kernelspec": {
   "display_name": "Python 3",
   "language": "python",
   "name": "python3"
  },
  "language_info": {
   "codemirror_mode": {
    "name": "ipython",
    "version": 3
   },
   "file_extension": ".py",
   "mimetype": "text/x-python",
   "name": "python",
   "nbconvert_exporter": "python",
   "pygments_lexer": "ipython3",
   "version": "3.7.4"
  }
 },
 "nbformat": 4,
 "nbformat_minor": 2
}
